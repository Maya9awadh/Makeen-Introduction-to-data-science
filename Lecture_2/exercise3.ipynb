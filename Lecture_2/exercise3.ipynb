{
 "cells": [
  {
   "cell_type": "raw",
   "id": "4bfae881",
   "metadata": {},
   "source": [
    "Create a list of 10 random integers between 1 and 100.\n",
    "- Standardize the numbers\n",
    "- Normalize the numbers "
   ]
  },
  {
   "cell_type": "code",
   "execution_count": 1,
   "id": "06fd4629",
   "metadata": {},
   "outputs": [],
   "source": [
    "#imported library\n",
    "from random import randint"
   ]
  },
  {
   "cell_type": "code",
   "execution_count": 2,
   "id": "db0c8a88",
   "metadata": {},
   "outputs": [
    {
     "data": {
      "text/plain": [
       "[3, 9, 5, 6, 9, 1, 2, 3, 9, 2]"
      ]
     },
     "execution_count": 2,
     "metadata": {},
     "output_type": "execute_result"
    }
   ],
   "source": [
    "#create a list of integers\n",
    "rand_int=[]\n",
    "for i in range(1,11):\n",
    "    num=randint(1,10)\n",
    "    rand_int.append(num)\n",
    "rand_int"
   ]
  },
  {
   "cell_type": "code",
   "execution_count": 3,
   "id": "1f1e7825",
   "metadata": {},
   "outputs": [
    {
     "data": {
      "text/plain": [
       "4.9"
      ]
     },
     "execution_count": 3,
     "metadata": {},
     "output_type": "execute_result"
    }
   ],
   "source": [
    "#calculate mean \n",
    "mean = sum(rand_int) / len(rand_int)\n",
    "mean"
   ]
  },
  {
   "cell_type": "code",
   "execution_count": 4,
   "id": "5d93ce4f",
   "metadata": {},
   "outputs": [
    {
     "data": {
      "text/plain": [
       "3.178049716414141"
      ]
     },
     "execution_count": 4,
     "metadata": {},
     "output_type": "execute_result"
    }
   ],
   "source": [
    "#calculate standard deviation\n",
    "differences = [(value - mean)**2 for value in rand_int]#x-mean\\\n",
    "sum_diff=sum(differences) #sum of x-mean\n",
    "stand_d=(sum_diff / (len(rand_int) - 1)) ** 0.5 \n",
    "stand_d"
   ]
  },
  {
   "cell_type": "code",
   "execution_count": 5,
   "id": "ff50e0ed",
   "metadata": {},
   "outputs": [
    {
     "data": {
      "text/plain": [
       "[-0.5978509367511751,\n",
       " 1.2900993898314825,\n",
       " 0.031465838776377514,\n",
       " 0.3461242265401538,\n",
       " 1.2900993898314825,\n",
       " -1.2271677122787277,\n",
       " -0.9125093245149513,\n",
       " -0.5978509367511751,\n",
       " 1.2900993898314825,\n",
       " -0.9125093245149513]"
      ]
     },
     "execution_count": 5,
     "metadata": {},
     "output_type": "execute_result"
    }
   ],
   "source": [
    "#calculate z-score\n",
    "z_scores = [(value - mean) / stand_d for value in rand_int]\n",
    "z_scores"
   ]
  },
  {
   "cell_type": "code",
   "execution_count": 6,
   "id": "7a49305c",
   "metadata": {},
   "outputs": [],
   "source": [
    "min_x=min(rand_int)\n",
    "max_x=max(rand_int)"
   ]
  },
  {
   "cell_type": "code",
   "execution_count": 7,
   "id": "5b735c4e",
   "metadata": {},
   "outputs": [],
   "source": [
    "#calculate min-max\n",
    "min_max=[(value-min_x)/(max_x-min_x) for value in rand_int]"
   ]
  },
  {
   "cell_type": "code",
   "execution_count": 8,
   "id": "02157d71",
   "metadata": {},
   "outputs": [
    {
     "data": {
      "text/plain": [
       "[0.25, 1.0, 0.5, 0.625, 1.0, 0.0, 0.125, 0.25, 1.0, 0.125]"
      ]
     },
     "execution_count": 8,
     "metadata": {},
     "output_type": "execute_result"
    }
   ],
   "source": [
    "min_max"
   ]
  }
 ],
 "metadata": {
  "kernelspec": {
   "display_name": "Python 3 (ipykernel)",
   "language": "python",
   "name": "python3"
  },
  "language_info": {
   "codemirror_mode": {
    "name": "ipython",
    "version": 3
   },
   "file_extension": ".py",
   "mimetype": "text/x-python",
   "name": "python",
   "nbconvert_exporter": "python",
   "pygments_lexer": "ipython3",
   "version": "3.8.5"
  }
 },
 "nbformat": 4,
 "nbformat_minor": 5
}
