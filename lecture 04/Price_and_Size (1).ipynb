{
 "cells": [
  {
   "cell_type": "raw",
   "id": "1ced09dd",
   "metadata": {},
   "source": [
    "predict the price of a house based on its size in square feet. Here are the variables in the dataset:\n",
    "• Size (numeric): The size of the house in square feet.\n",
    "• Price (numeric): The price of the house in dollars."
   ]
  },
  {
   "cell_type": "code",
   "execution_count": 8,
   "id": "985c6e45",
   "metadata": {},
   "outputs": [],
   "source": [
    "#import library\n",
    "import pandas as pd\n",
    "from sklearn.metrics import mean_squared_error,accuracy_score"
   ]
  },
  {
   "cell_type": "code",
   "execution_count": 3,
   "id": "5a8a6119",
   "metadata": {},
   "outputs": [
    {
     "data": {
      "text/html": [
       "<div>\n",
       "<style scoped>\n",
       "    .dataframe tbody tr th:only-of-type {\n",
       "        vertical-align: middle;\n",
       "    }\n",
       "\n",
       "    .dataframe tbody tr th {\n",
       "        vertical-align: top;\n",
       "    }\n",
       "\n",
       "    .dataframe thead th {\n",
       "        text-align: right;\n",
       "    }\n",
       "</style>\n",
       "<table border=\"1\" class=\"dataframe\">\n",
       "  <thead>\n",
       "    <tr style=\"text-align: right;\">\n",
       "      <th></th>\n",
       "      <th>Size (sq ft)</th>\n",
       "      <th>Price(OMR)</th>\n",
       "      <th>predicted_Price</th>\n",
       "    </tr>\n",
       "  </thead>\n",
       "  <tbody>\n",
       "    <tr>\n",
       "      <th>0</th>\n",
       "      <td>1000</td>\n",
       "      <td>15000</td>\n",
       "      <td>14500</td>\n",
       "    </tr>\n",
       "    <tr>\n",
       "      <th>1</th>\n",
       "      <td>1500</td>\n",
       "      <td>25000</td>\n",
       "      <td>26500</td>\n",
       "    </tr>\n",
       "    <tr>\n",
       "      <th>2</th>\n",
       "      <td>2000</td>\n",
       "      <td>35000</td>\n",
       "      <td>33000</td>\n",
       "    </tr>\n",
       "    <tr>\n",
       "      <th>3</th>\n",
       "      <td>2500</td>\n",
       "      <td>45000</td>\n",
       "      <td>44500</td>\n",
       "    </tr>\n",
       "    <tr>\n",
       "      <th>4</th>\n",
       "      <td>3000</td>\n",
       "      <td>55000</td>\n",
       "      <td>60000</td>\n",
       "    </tr>\n",
       "  </tbody>\n",
       "</table>\n",
       "</div>"
      ],
      "text/plain": [
       "   Size (sq ft)  Price(OMR)  predicted_Price\n",
       "0          1000       15000            14500\n",
       "1          1500       25000            26500\n",
       "2          2000       35000            33000\n",
       "3          2500       45000            44500\n",
       "4          3000       55000            60000"
      ]
     },
     "execution_count": 3,
     "metadata": {},
     "output_type": "execute_result"
    }
   ],
   "source": [
    "#create the data frame\n",
    "data={'Size (sq ft)':[1000,1500,2000,2500,3000],\n",
    "     'Price(OMR)': [15000,25000,35000,45000,55000],\n",
    "     'predicted_Price':[14500,26500,33000,44500,60000]}\n",
    "df=pd.DataFrame(data)\n",
    "df"
   ]
  },
  {
   "cell_type": "code",
   "execution_count": 5,
   "id": "01b85637",
   "metadata": {},
   "outputs": [
    {
     "data": {
      "text/plain": [
       "6350000.0"
      ]
     },
     "execution_count": 5,
     "metadata": {},
     "output_type": "execute_result"
    }
   ],
   "source": [
    "# Calculate the mean squared error (MSE) of the modeL\n",
    "mean_squared_error(df['Price(OMR)'],df['predicted_Price'])"
   ]
  },
  {
   "cell_type": "raw",
   "id": "22bebcbc",
   "metadata": {},
   "source": [
    "From above result, we can see that the mean square error is very large. This indicates that the pridicted price is different  from the actual price and the model may be week."
   ]
  },
  {
   "cell_type": "code",
   "execution_count": 11,
   "id": "ea7fe0c0",
   "metadata": {},
   "outputs": [
    {
     "data": {
      "text/plain": [
       "25"
      ]
     },
     "execution_count": 11,
     "metadata": {},
     "output_type": "execute_result"
    }
   ],
   "source": [
    "accu=0\n",
    "for a in df['Price(OMR)']:\n",
    "    for p in df['predicted_Price']:\n",
    "        if (p<=1.1*a) or (p>=0.9*a):\n",
    "            accu+=1\n",
    "accu"
   ]
  },
  {
   "cell_type": "raw",
   "id": "f9aaae7f",
   "metadata": {},
   "source": [
    "The above result shows that the model was predicted 25% of the Price correctly. Means that the model may have a problem of underfitt or overfitt"
   ]
  },
  {
   "cell_type": "code",
   "execution_count": 12,
   "id": "cec6ccc1",
   "metadata": {},
   "outputs": [
    {
     "data": {
      "text/plain": [
       "75"
      ]
     },
     "execution_count": 12,
     "metadata": {},
     "output_type": "execute_result"
    }
   ],
   "source": [
    "err=100-accu\n",
    "err"
   ]
  },
  {
   "cell_type": "raw",
   "id": "3d351b5d",
   "metadata": {},
   "source": [
    "The above result shows that the model was predicted 75% of price incorrectly. Means that the model may have a problem of underfitt or overfitt\n",
    "It should be noted that the data set is quite small,with only five data points ,so its possible that the model could work better with a large data set.In addition that may be other factor can effect the price like location or age of the property."
   ]
  }
 ],
 "metadata": {
  "kernelspec": {
   "display_name": "Python 3 (ipykernel)",
   "language": "python",
   "name": "python3"
  },
  "language_info": {
   "codemirror_mode": {
    "name": "ipython",
    "version": 3
   },
   "file_extension": ".py",
   "mimetype": "text/x-python",
   "name": "python",
   "nbconvert_exporter": "python",
   "pygments_lexer": "ipython3",
   "version": "3.8.5"
  }
 },
 "nbformat": 4,
 "nbformat_minor": 5
}
